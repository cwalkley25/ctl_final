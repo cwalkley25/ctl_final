{
 "cells": [
  {
   "cell_type": "code",
   "execution_count": 1,
   "metadata": {},
   "outputs": [],
   "source": [
    "import re\n",
    "import urllib.request \n",
    "from urllib.request import Request, urlopen\n",
    "from IPython.core.display import display, HTML\n",
    "\n",
    "import pandas as pd"
   ]
  },
  {
   "cell_type": "code",
   "execution_count": 2,
   "metadata": {},
   "outputs": [
    {
     "name": "stdout",
     "output_type": "stream",
     "text": [
      "Hellooo??\n"
     ]
    }
   ],
   "source": [
    "print(\"Hellooo??\")"
   ]
  },
  {
   "cell_type": "code",
   "execution_count": 12,
   "metadata": {},
   "outputs": [],
   "source": [
    "#!pip install --upgrade protobuf\n",
    "#!pip install  gspread\n",
    "#!pip install  oauth2client\n"
   ]
  },
  {
   "cell_type": "code",
   "execution_count": 3,
   "metadata": {},
   "outputs": [],
   "source": [
    "import io \n",
    "import csv\n",
    "import gspread\n",
    "from oauth2client.service_account import ServiceAccountCredentials\n",
    "\n",
    "import numpy as np\n",
    "\n",
    "import requests\n",
    "\n",
    "\n",
    "import datetime\n",
    "from datetime import date"
   ]
  },
  {
   "cell_type": "code",
   "execution_count": 4,
   "metadata": {
    "scrolled": true
   },
   "outputs": [],
   "source": [
    "#from urllib.request import Request, urlopen\n",
    "\n",
    "req = Request('https://eeaonline.eea.state.ma.us/DPU/Fileroom/filings/bydate', headers={'User-Agent': 'Mozilla/5.0'})\n",
    "webpage = urlopen(req).read()\n",
    "\n",
    "#print(webpage)"
   ]
  },
  {
   "cell_type": "code",
   "execution_count": 5,
   "metadata": {},
   "outputs": [],
   "source": [
    "\n",
    "from datetime import timedelta\n",
    "\n",
    "\n",
    "today = date.today()\n",
    "\n",
    "today = pd.to_datetime(date.today())"
   ]
  },
  {
   "cell_type": "code",
   "execution_count": 6,
   "metadata": {},
   "outputs": [],
   "source": [
    "start_date = today - timedelta(days=7)\n",
    "end_date = today\n",
    "\n",
    "\n",
    "start = start_date.strftime(\"%m/%d/%Y\")\n",
    "end = end_date.strftime(\"%m/%d/%Y\")\n",
    "\n"
   ]
  },
  {
   "cell_type": "code",
   "execution_count": 7,
   "metadata": {},
   "outputs": [
    {
     "name": "stdout",
     "output_type": "stream",
     "text": [
      "https://eeaonline.eea.state.ma.us/DPU/Fileroom//Filings/GetByFilingTimeFrame/?standAlone=true&start=11/29/2019&end=12/06/2019\n"
     ]
    }
   ],
   "source": [
    "#ok clicked on network to find link, see if this works\n",
    "\n",
    "\n",
    "test_link = 'https://eeaonline.eea.state.ma.us/DPU/Fileroom//Filings/GetByFilingTimeFrame/?standAlone=true&start=%s&end=%s' % (start, end)\n",
    "req = Request(test_link, headers={'User-Agent': 'Mozilla/5.0'})\n",
    "webpage1 = urlopen(req).read().decode(\"utf-8\")\n",
    "\n",
    "print(test_link)\n",
    "\n",
    "#print(webpage1)\n",
    "\n",
    "\n"
   ]
  },
  {
   "cell_type": "code",
   "execution_count": 9,
   "metadata": {},
   "outputs": [
    {
     "name": "stdout",
     "output_type": "stream",
     "text": [
      "[]\n"
     ]
    }
   ],
   "source": [
    "#this has the DATE and the FILER and the DOCKET and Initial Filing and DESCRIPTION\n",
    "#update: added the \\r so its removed from the description for clean purposes\n",
    "#update2: the \\r will make it so some descriptions are not caputred due to an extra space in the description, would rather clean that \\r up later\n",
    "#FINAL Verz 1\n",
    "results2 = re.findall('<span class=\"created\"><strong>(.*)</strong></span><span>&nbsp; &nbsp; &nbsp; &nbsp; &nbsp; &nbsp;</span>\\s*.*</div>\\s*.*<div class=\"right\">\\s*.*<strong><label for=\"Filer\">Filer</label>: </strong><span class=\"filer\">(.*)</span><span>&nbsp; &nbsp; &nbsp; &nbsp; &nbsp; &nbsp;</span>\\s*.*;\">(.*)</a>.*</span>\\s*<br />\\s*.*<strong><label for=\"FilingType\">Document Type</label>: </strong><span class=\"filingtype\">(Initial\\sFiling).*\\s*\\n*<br />\\s*<br />\\s*<div class=\"description\">\\s*(.*)',webpage1)\n",
    "#print(results2)"
   ]
  },
  {
   "cell_type": "code",
   "execution_count": 10,
   "metadata": {},
   "outputs": [
    {
     "name": "stdout",
     "output_type": "stream",
     "text": [
      "[('12/02/2019', 'Attorney General', '19-123', 'Intervention', 'Timothy Reppucci')]\n"
     ]
    }
   ],
   "source": [
    "#ok this cathces the DATE and the FILER(AGO ONLY) and the DOCKET and the speciific AAG\n",
    "#Final Verz 1\n",
    "#update after user testing:  expand field of AAGs collected\n",
    "results4 = re.findall('<span class=\"created\"><strong>(.*)</strong></span><span>&nbsp; &nbsp; &nbsp; &nbsp; &nbsp; &nbsp;</span>\\s*.*</div>\\s*.*<div class=\"right\">\\s*.*<strong><label for=\"Filer\">Filer</label>: </strong><span class=\"filer\">(Attorney\\sGeneral)</span><span>&nbsp; &nbsp; &nbsp; &nbsp; &nbsp; &nbsp;</span>\\s*.*;\">(.*)</a>.*</span>\\s*<br />\\s*.*<strong><label for=\"FilingType\">Document Type</label>: </strong><span class=\"filingtype\">(Intervention).*\\s*\\n*<br />\\s*<br />\\s*<div class=\"description\">\\s*.*Appearance of Counsel for\\s(\\w*\\s\\w*).*\\r',webpage1)\n",
    "#print(results4)"
   ]
  },
  {
   "cell_type": "code",
   "execution_count": 11,
   "metadata": {},
   "outputs": [
    {
     "data": {
      "text/html": [
       "<div>\n",
       "<style scoped>\n",
       "    .dataframe tbody tr th:only-of-type {\n",
       "        vertical-align: middle;\n",
       "    }\n",
       "\n",
       "    .dataframe tbody tr th {\n",
       "        vertical-align: top;\n",
       "    }\n",
       "\n",
       "    .dataframe thead th {\n",
       "        text-align: right;\n",
       "    }\n",
       "</style>\n",
       "<table border=\"1\" class=\"dataframe\">\n",
       "  <thead>\n",
       "    <tr style=\"text-align: right;\">\n",
       "      <th></th>\n",
       "      <th>Date_Filed</th>\n",
       "      <th>Filer</th>\n",
       "      <th>Docket</th>\n",
       "      <th>File Type</th>\n",
       "      <th>Description</th>\n",
       "    </tr>\n",
       "  </thead>\n",
       "  <tbody>\n",
       "  </tbody>\n",
       "</table>\n",
       "</div>"
      ],
      "text/plain": [
       "Empty DataFrame\n",
       "Columns: [Date_Filed, Filer, Docket, File Type, Description]\n",
       "Index: []"
      ]
     },
     "metadata": {},
     "output_type": "display_data"
    }
   ],
   "source": [
    "#trying to turn results into a data frame\n",
    "New_Filings = pd.DataFrame(results2, columns = ['Date_Filed' , 'Filer', 'Docket' , 'File Type' , 'Description'])\n",
    "\n",
    "#cleanup Data\n",
    "\n",
    "New_Filings['Docket'] = New_Filings['Docket'].str.lower()\n",
    "\n",
    "display(New_Filings)"
   ]
  },
  {
   "cell_type": "code",
   "execution_count": 12,
   "metadata": {
    "scrolled": true
   },
   "outputs": [],
   "source": [
    "#trying to clean up the \\r\n",
    "New_Filings['Description'] = New_Filings['Description'].replace('\\r', ' ', regex=True)\n",
    "\n",
    "#maybe add in the duplicate part here"
   ]
  },
  {
   "cell_type": "code",
   "execution_count": 13,
   "metadata": {},
   "outputs": [
    {
     "data": {
      "text/html": [
       "<div>\n",
       "<style scoped>\n",
       "    .dataframe tbody tr th:only-of-type {\n",
       "        vertical-align: middle;\n",
       "    }\n",
       "\n",
       "    .dataframe tbody tr th {\n",
       "        vertical-align: top;\n",
       "    }\n",
       "\n",
       "    .dataframe thead th {\n",
       "        text-align: right;\n",
       "    }\n",
       "</style>\n",
       "<table border=\"1\" class=\"dataframe\">\n",
       "  <thead>\n",
       "    <tr style=\"text-align: right;\">\n",
       "      <th></th>\n",
       "      <th>Date_Filed</th>\n",
       "      <th>Filer</th>\n",
       "      <th>Docket</th>\n",
       "      <th>File Type</th>\n",
       "      <th>AAG on Case</th>\n",
       "    </tr>\n",
       "  </thead>\n",
       "  <tbody>\n",
       "    <tr>\n",
       "      <th>0</th>\n",
       "      <td>12/02/2019</td>\n",
       "      <td>Attorney General</td>\n",
       "      <td>19-123</td>\n",
       "      <td>Intervention</td>\n",
       "      <td>Timothy Reppucci</td>\n",
       "    </tr>\n",
       "  </tbody>\n",
       "</table>\n",
       "</div>"
      ],
      "text/plain": [
       "   Date_Filed             Filer  Docket     File Type       AAG on Case\n",
       "0  12/02/2019  Attorney General  19-123  Intervention  Timothy Reppucci"
      ]
     },
     "metadata": {},
     "output_type": "display_data"
    }
   ],
   "source": [
    "New_AGO=pd.DataFrame(results4, columns = ['Date_Filed' , 'Filer', 'Docket' , 'File Type' , 'AAG on Case'])\n",
    "\n",
    "#clean data\n",
    "\n",
    "New_AGO['Docket'] = New_AGO['Docket'].str.lower()\n",
    "\n",
    "display(New_AGO)"
   ]
  },
  {
   "cell_type": "code",
   "execution_count": 14,
   "metadata": {},
   "outputs": [
    {
     "data": {
      "text/html": [
       "<div>\n",
       "<style scoped>\n",
       "    .dataframe tbody tr th:only-of-type {\n",
       "        vertical-align: middle;\n",
       "    }\n",
       "\n",
       "    .dataframe tbody tr th {\n",
       "        vertical-align: top;\n",
       "    }\n",
       "\n",
       "    .dataframe thead th {\n",
       "        text-align: right;\n",
       "    }\n",
       "</style>\n",
       "<table border=\"1\" class=\"dataframe\">\n",
       "  <thead>\n",
       "    <tr style=\"text-align: right;\">\n",
       "      <th></th>\n",
       "      <th>Date_Intervention</th>\n",
       "      <th>Docket</th>\n",
       "      <th>AAG</th>\n",
       "    </tr>\n",
       "  </thead>\n",
       "  <tbody>\n",
       "    <tr>\n",
       "      <th>0</th>\n",
       "      <td>12/02/2019</td>\n",
       "      <td>19-123</td>\n",
       "      <td>Timothy Reppucci</td>\n",
       "    </tr>\n",
       "  </tbody>\n",
       "</table>\n",
       "</div>"
      ],
      "text/plain": [
       "  Date_Intervention  Docket               AAG\n",
       "0        12/02/2019  19-123  Timothy Reppucci"
      ]
     },
     "metadata": {},
     "output_type": "display_data"
    },
    {
     "data": {
      "text/html": [
       "<div>\n",
       "<style scoped>\n",
       "    .dataframe tbody tr th:only-of-type {\n",
       "        vertical-align: middle;\n",
       "    }\n",
       "\n",
       "    .dataframe tbody tr th {\n",
       "        vertical-align: top;\n",
       "    }\n",
       "\n",
       "    .dataframe thead th {\n",
       "        text-align: right;\n",
       "    }\n",
       "</style>\n",
       "<table border=\"1\" class=\"dataframe\">\n",
       "  <thead>\n",
       "    <tr style=\"text-align: right;\">\n",
       "      <th></th>\n",
       "      <th>Date_Filed</th>\n",
       "      <th>Filer</th>\n",
       "      <th>File Type</th>\n",
       "      <th>Description</th>\n",
       "      <th>Date_Intervention</th>\n",
       "      <th>Docket</th>\n",
       "      <th>AAG</th>\n",
       "    </tr>\n",
       "  </thead>\n",
       "  <tbody>\n",
       "    <tr>\n",
       "      <th>0</th>\n",
       "      <td>NaN</td>\n",
       "      <td>NaN</td>\n",
       "      <td>NaN</td>\n",
       "      <td>NaN</td>\n",
       "      <td>12/02/2019</td>\n",
       "      <td>19-123</td>\n",
       "      <td>Timothy Reppucci</td>\n",
       "    </tr>\n",
       "  </tbody>\n",
       "</table>\n",
       "</div>"
      ],
      "text/plain": [
       "  Date_Filed Filer File Type Description Date_Intervention  Docket  \\\n",
       "0        NaN   NaN       NaN         NaN        12/02/2019  19-123   \n",
       "\n",
       "                AAG  \n",
       "0  Timothy Reppucci  "
      ]
     },
     "metadata": {},
     "output_type": "display_data"
    },
    {
     "data": {
      "text/plain": [
       "Date_Filed           object\n",
       "Filer                object\n",
       "File Type            object\n",
       "Description          object\n",
       "Date_Intervention    object\n",
       "Docket               object\n",
       "AAG                  object\n",
       "dtype: object"
      ]
     },
     "execution_count": 14,
     "metadata": {},
     "output_type": "execute_result"
    }
   ],
   "source": [
    "#ok now working on showing which ones we don't have AAG on\n",
    "\n",
    "New_AGO = pd.DataFrame.from_records(results4, exclude=['Filer', 'File Type'], columns = ['Date_Intervention' , 'Filer', 'Docket' , 'File Type' , 'AAG'] )\n",
    "display(New_AGO)\n",
    "\n",
    "#merger test\n",
    "\n",
    "Combined_Files_Int = New_Filings.merge(New_AGO, on='Docket', how='outer') \n",
    "display(Combined_Files_Int)\n",
    "Combined_Files_Int.dtypes"
   ]
  },
  {
   "cell_type": "code",
   "execution_count": 15,
   "metadata": {
    "scrolled": true
   },
   "outputs": [
    {
     "data": {
      "text/html": [
       "<div>\n",
       "<style scoped>\n",
       "    .dataframe tbody tr th:only-of-type {\n",
       "        vertical-align: middle;\n",
       "    }\n",
       "\n",
       "    .dataframe tbody tr th {\n",
       "        vertical-align: top;\n",
       "    }\n",
       "\n",
       "    .dataframe thead th {\n",
       "        text-align: right;\n",
       "    }\n",
       "</style>\n",
       "<table border=\"1\" class=\"dataframe\">\n",
       "  <thead>\n",
       "    <tr style=\"text-align: right;\">\n",
       "      <th></th>\n",
       "      <th>Date_Filed</th>\n",
       "      <th>Filer</th>\n",
       "      <th>Docket</th>\n",
       "      <th>File Type</th>\n",
       "      <th>Description</th>\n",
       "    </tr>\n",
       "  </thead>\n",
       "  <tbody>\n",
       "  </tbody>\n",
       "</table>\n",
       "</div>"
      ],
      "text/plain": [
       "Empty DataFrame\n",
       "Columns: [Date_Filed, Filer, Docket, File Type, Description]\n",
       "Index: []"
      ]
     },
     "metadata": {},
     "output_type": "display_data"
    }
   ],
   "source": [
    "#adding features\n",
    "\n",
    "\n",
    "Combined_Files_Int['Date_Filed'] = pd.to_datetime(Combined_Files_Int['Date_Filed'])\n",
    "Combined_Files_Int['Date_Intervention'] = pd.to_datetime(Combined_Files_Int['Date_Intervention'])\n",
    "\n",
    "Combined_Files_Int['Days Without an AAG'] = today - Combined_Files_Int['Date_Filed']\n",
    "\n",
    "#want to remove entries wDaysith an AAG\n",
    "\n",
    "No_AAGs = Combined_Files_Int[Combined_Files_Int.Date_Intervention.isnull()]\n",
    "\n",
    "No_AAGs = No_AAGs[['Date_Filed', 'Filer', 'Docket', 'File Type', 'Description']].copy()\n",
    "\n",
    "#creation of table with cases without an AAG\n",
    "\n",
    "Cases_Without_AAG = No_AAGs\n",
    "\n",
    "Cases_Without_AAG.drop_duplicates(subset = 'Docket', keep = 'first', inplace = True)\n",
    "\n",
    "display(Cases_Without_AAG)"
   ]
  },
  {
   "cell_type": "code",
   "execution_count": 16,
   "metadata": {},
   "outputs": [
    {
     "data": {
      "text/html": [
       "<div>\n",
       "<style scoped>\n",
       "    .dataframe tbody tr th:only-of-type {\n",
       "        vertical-align: middle;\n",
       "    }\n",
       "\n",
       "    .dataframe tbody tr th {\n",
       "        vertical-align: top;\n",
       "    }\n",
       "\n",
       "    .dataframe thead th {\n",
       "        text-align: right;\n",
       "    }\n",
       "</style>\n",
       "<table border=\"1\" class=\"dataframe\">\n",
       "  <thead>\n",
       "    <tr style=\"text-align: right;\">\n",
       "      <th></th>\n",
       "      <th>Date_Filed</th>\n",
       "      <th>Filer</th>\n",
       "      <th>Docket</th>\n",
       "      <th>File Type</th>\n",
       "      <th>Description</th>\n",
       "      <th>Date_Intervention</th>\n",
       "      <th>AAG</th>\n",
       "    </tr>\n",
       "  </thead>\n",
       "  <tbody>\n",
       "    <tr>\n",
       "      <th>0</th>\n",
       "      <td>NaT</td>\n",
       "      <td>NaN</td>\n",
       "      <td>19-123</td>\n",
       "      <td>NaN</td>\n",
       "      <td>NaN</td>\n",
       "      <td>2019-12-02</td>\n",
       "      <td>Timothy Reppucci</td>\n",
       "    </tr>\n",
       "  </tbody>\n",
       "</table>\n",
       "</div>"
      ],
      "text/plain": [
       "  Date_Filed Filer  Docket File Type Description Date_Intervention  \\\n",
       "0        NaT   NaN  19-123       NaN         NaN        2019-12-02   \n",
       "\n",
       "                AAG  \n",
       "0  Timothy Reppucci  "
      ]
     },
     "metadata": {},
     "output_type": "display_data"
    }
   ],
   "source": [
    "#Table of Just New AAGs Added\n",
    "\n",
    "New_AAG1 = Combined_Files_Int[Combined_Files_Int.Date_Intervention.notnull()]\n",
    "\n",
    "New_AAG1 = New_AAG1[['Date_Filed', 'Filer', 'Docket', 'File Type', 'Description', 'Date_Intervention', 'AAG']].copy()\n",
    "\n",
    "Cases_With_AAG = New_AAG1\n",
    "\n",
    "Cases_With_AAG.drop_duplicates(subset = 'Docket', keep = 'first', inplace = True)\n",
    "\n",
    "display(Cases_With_AAG)"
   ]
  },
  {
   "cell_type": "code",
   "execution_count": 26,
   "metadata": {},
   "outputs": [],
   "source": [
    "#Lets Catch AGO Briefs\n",
    "#results6 = re.findall('<span class=\"created\"><strong>(.*)</strong></span><span>&nbsp; &nbsp; &nbsp; &nbsp; &nbsp; &nbsp;</span>\\s*.*</div>\\s*.*<div class=\"right\">\\s*.*<strong><label for=\"Filer\">Filer</label>: </strong><span class=\"filer\">(Attorney\\sGeneral)</span><span>&nbsp; &nbsp; &nbsp; &nbsp; &nbsp; &nbsp;</span>\\s*.*;\">(.*)</a>.*</span>\\s*<br />\\s*.*<strong><label for=\"FilingType\">Document Type</label>: </strong><span class=\"filingtype\">(Brief).*\\s*\\n*<br />\\s*<br />\\s*<div class=\"description\">\\s*(.*)',webpage1)\n",
    "#print(results6)"
   ]
  },
  {
   "cell_type": "code",
   "execution_count": 27,
   "metadata": {},
   "outputs": [
    {
     "data": {
      "text/html": [
       "<div>\n",
       "<style scoped>\n",
       "    .dataframe tbody tr th:only-of-type {\n",
       "        vertical-align: middle;\n",
       "    }\n",
       "\n",
       "    .dataframe tbody tr th {\n",
       "        vertical-align: top;\n",
       "    }\n",
       "\n",
       "    .dataframe thead th {\n",
       "        text-align: right;\n",
       "    }\n",
       "</style>\n",
       "<table border=\"1\" class=\"dataframe\">\n",
       "  <thead>\n",
       "    <tr style=\"text-align: right;\">\n",
       "      <th></th>\n",
       "      <th>Date_Filed</th>\n",
       "      <th>Filer</th>\n",
       "      <th>Docket</th>\n",
       "      <th>File Type</th>\n",
       "      <th>Description</th>\n",
       "    </tr>\n",
       "  </thead>\n",
       "  <tbody>\n",
       "  </tbody>\n",
       "</table>\n",
       "</div>"
      ],
      "text/plain": [
       "Empty DataFrame\n",
       "Columns: [Date_Filed, Filer, Docket, File Type, Description]\n",
       "Index: []"
      ]
     },
     "metadata": {},
     "output_type": "display_data"
    }
   ],
   "source": [
    "#New_Briefs = pd.DataFrame(results6, columns = ['Date_Filed' , 'Filer', 'Docket' , 'File Type' , 'Description'])\n",
    "\n",
    "#New_Briefs['Description'] = New_Briefs['Description'].replace('\\r', ' ', regex=True)\n",
    "\n",
    "#New_Briefs['Docket'] = New_Briefs['Docket'].str.lower()\n",
    "\n",
    "#display(New_Briefs)"
   ]
  },
  {
   "cell_type": "code",
   "execution_count": 28,
   "metadata": {},
   "outputs": [],
   "source": [
    "#lets capture new orders\n",
    "#results8 = re.findall('<span class=\"created\"><strong>(.*)</strong></span><span>&nbsp; &nbsp; &nbsp; &nbsp; &nbsp; &nbsp;</span>\\s*.*</div>\\s*.*<div class=\"right\">\\s*.*<strong><label for=\"Filer\">Filer</label>: </strong><span class=\"filer\">(DPU)</span><span>&nbsp; &nbsp; &nbsp; &nbsp; &nbsp; &nbsp;</span>\\s*.*;\">(.*)</a>.*</span>\\s*<br />\\s*.*<strong><label for=\"FilingType\">Document Type</label>: </strong><span class=\"filingtype\">(Order).*\\s*\\n*<br />\\s*<br />\\s*<div class=\"description\">\\s*.*(ORDER\\.).*',webpage1)\n",
    "#print(results8)"
   ]
  },
  {
   "cell_type": "code",
   "execution_count": 29,
   "metadata": {},
   "outputs": [
    {
     "data": {
      "text/html": [
       "<div>\n",
       "<style scoped>\n",
       "    .dataframe tbody tr th:only-of-type {\n",
       "        vertical-align: middle;\n",
       "    }\n",
       "\n",
       "    .dataframe tbody tr th {\n",
       "        vertical-align: top;\n",
       "    }\n",
       "\n",
       "    .dataframe thead th {\n",
       "        text-align: right;\n",
       "    }\n",
       "</style>\n",
       "<table border=\"1\" class=\"dataframe\">\n",
       "  <thead>\n",
       "    <tr style=\"text-align: right;\">\n",
       "      <th></th>\n",
       "      <th>Date_Filed</th>\n",
       "      <th>Filer</th>\n",
       "      <th>Docket</th>\n",
       "      <th>File Type</th>\n",
       "      <th>Description</th>\n",
       "    </tr>\n",
       "  </thead>\n",
       "  <tbody>\n",
       "    <tr>\n",
       "      <th>0</th>\n",
       "      <td>11/27/2019</td>\n",
       "      <td>DPU</td>\n",
       "      <td>19-62</td>\n",
       "      <td>Order</td>\n",
       "      <td>ORDER.</td>\n",
       "    </tr>\n",
       "    <tr>\n",
       "      <th>1</th>\n",
       "      <td>11/26/2019</td>\n",
       "      <td>DPU</td>\n",
       "      <td>18-sq-14</td>\n",
       "      <td>Order</td>\n",
       "      <td>ORDER.</td>\n",
       "    </tr>\n",
       "    <tr>\n",
       "      <th>2</th>\n",
       "      <td>11/26/2019</td>\n",
       "      <td>DPU</td>\n",
       "      <td>18-sq-13</td>\n",
       "      <td>Order</td>\n",
       "      <td>ORDER.</td>\n",
       "    </tr>\n",
       "    <tr>\n",
       "      <th>3</th>\n",
       "      <td>11/26/2019</td>\n",
       "      <td>DPU</td>\n",
       "      <td>18-sq-12</td>\n",
       "      <td>Order</td>\n",
       "      <td>ORDER.</td>\n",
       "    </tr>\n",
       "    <tr>\n",
       "      <th>4</th>\n",
       "      <td>11/26/2019</td>\n",
       "      <td>DPU</td>\n",
       "      <td>18-sq-11</td>\n",
       "      <td>Order</td>\n",
       "      <td>ORDER.</td>\n",
       "    </tr>\n",
       "    <tr>\n",
       "      <th>5</th>\n",
       "      <td>11/26/2019</td>\n",
       "      <td>DPU</td>\n",
       "      <td>18-sq-10</td>\n",
       "      <td>Order</td>\n",
       "      <td>ORDER.</td>\n",
       "    </tr>\n",
       "    <tr>\n",
       "      <th>6</th>\n",
       "      <td>11/26/2019</td>\n",
       "      <td>DPU</td>\n",
       "      <td>19-gc-56</td>\n",
       "      <td>Order</td>\n",
       "      <td>ORDER.</td>\n",
       "    </tr>\n",
       "    <tr>\n",
       "      <th>7</th>\n",
       "      <td>11/26/2019</td>\n",
       "      <td>DPU</td>\n",
       "      <td>19-112</td>\n",
       "      <td>Order</td>\n",
       "      <td>ORDER.</td>\n",
       "    </tr>\n",
       "  </tbody>\n",
       "</table>\n",
       "</div>"
      ],
      "text/plain": [
       "   Date_Filed Filer    Docket File Type Description\n",
       "0  11/27/2019   DPU     19-62     Order      ORDER.\n",
       "1  11/26/2019   DPU  18-sq-14     Order      ORDER.\n",
       "2  11/26/2019   DPU  18-sq-13     Order      ORDER.\n",
       "3  11/26/2019   DPU  18-sq-12     Order      ORDER.\n",
       "4  11/26/2019   DPU  18-sq-11     Order      ORDER.\n",
       "5  11/26/2019   DPU  18-sq-10     Order      ORDER.\n",
       "6  11/26/2019   DPU  19-gc-56     Order      ORDER.\n",
       "7  11/26/2019   DPU    19-112     Order      ORDER."
      ]
     },
     "metadata": {},
     "output_type": "display_data"
    }
   ],
   "source": [
    "#df for new orders, which we will need to compare to the record of cases we are on\n",
    "\n",
    "#All_New_Orders = pd.DataFrame(results8, columns = ['Date_Filed' , 'Filer', 'Docket' , 'File Type' , 'Description'])\n",
    "\n",
    "#All_New_Orders['Description'] = All_New_Orders['Description'].replace('\\r', ' ', regex=True)\n",
    "\n",
    "#All_New_Orders['Docket'] = All_New_Orders['Docket'].str.lower()\n",
    "\n",
    "#display(All_New_Orders)\n"
   ]
  },
  {
   "cell_type": "code",
   "execution_count": 17,
   "metadata": {},
   "outputs": [],
   "source": [
    "# email for your app: owner-596@api-key-first-test.iam.gserviceaccount.com\n",
    "# this is the email used by your app. See\n",
    "\n",
    "# location of you key\n",
    "GKey = r\"C:\\Users\\cwalk\\Documents\\HOME\\keys\\API_Key_First_Test-95147982bc22.json\"\n",
    "credentials = ServiceAccountCredentials.from_json_keyfile_name(GKey, ['https://spreadsheets.google.com/feeds'])\n",
    "\n",
    "# the id for the sheet you want to access\n",
    "sheet_id = \"1YBC5BHOIHPHI_qviJA86TR8JxT7trffKlcSYrjAHOPw\""
   ]
  },
  {
   "cell_type": "code",
   "execution_count": 18,
   "metadata": {},
   "outputs": [],
   "source": [
    "# import Sheet\n",
    "def download_sheet(document_key,form_name,skip=None):\n",
    "    csvfile = r\"C:\\Users\\cwalk\\Documents\\HOME\\raw_data\\tmp.csv\"\n",
    "    gc = gspread.authorize(credentials)\n",
    "    wks = gc.open_by_key(document_key)\n",
    "    worksheet = wks.worksheet(form_name)    \n",
    "    list_of_lists = worksheet.get_all_values()\n",
    "    # uncomment to clean up empty rows and columns\n",
    "    #worksheet.resize(len(list_of_lists),len(list_of_lists[0]))\n",
    "    with open(csvfile, \"w\") as output:\n",
    "        writer = csv.writer(output, lineterminator='\\n')\n",
    "        writer.writerows(list_of_lists)\n",
    "    return pd.read_csv(csvfile, parse_dates=[0], encoding = \"ISO-8859-1\", skiprows=skip)\n",
    "\n",
    "\n",
    "        \n",
    "# add rows from a dataframe df\n",
    "def add_rows(document_key,form_name,df):\n",
    "    gc = gspread.authorize(credentials)\n",
    "    wks = gc.open_by_key(document_key)\n",
    "    worksheet = wks.worksheet(form_name)\n",
    "    df = df.astype(str)\n",
    "    print(\"\\nAdding...\\n\")\n",
    "    for index, row in df.iterrows():\n",
    "        print(row.tolist())\n",
    "        worksheet.append_row(row.tolist())\n",
    "    print(\"\\n\")\n",
    "        \n",
    "# remove everything but the header from a worksheet\n",
    "def empty_sheet(document_key,form_name):\n",
    "    gc = gspread.authorize(credentials)\n",
    "    wks = gc.open_by_key(document_key)\n",
    "    worksheet = wks.worksheet(form_name)\n",
    "    list_of_lists = worksheet.get_all_values()\n",
    "    worksheet.resize(1,len(list_of_lists[0]))"
   ]
  },
  {
   "cell_type": "code",
   "execution_count": 19,
   "metadata": {},
   "outputs": [],
   "source": [
    "record = download_sheet(sheet_id,\"Record_of_All_Dockets_with_an_AAG\")\n",
    "record['Date_Filed'] = pd.to_datetime(record['Date_Filed'])\n",
    "\n",
    "\n",
    "#display(record)\n"
   ]
  },
  {
   "cell_type": "code",
   "execution_count": 20,
   "metadata": {},
   "outputs": [],
   "source": [
    "add_dockets = Cases_With_AAG[['Date_Filed', 'Docket', 'AAG']]"
   ]
  },
  {
   "cell_type": "code",
   "execution_count": 21,
   "metadata": {},
   "outputs": [],
   "source": [
    "#display(add_dockets)\n",
    "#display(record)\n",
    "\n",
    "add_dockets_uploader = pd.concat([record, add_dockets])\n",
    "#display(add_dockets_uploader)\n",
    "#duplicates not gone yet, see next cell"
   ]
  },
  {
   "cell_type": "code",
   "execution_count": 22,
   "metadata": {},
   "outputs": [],
   "source": [
    "add_dockets_uploader.drop_duplicates(subset = 'Docket', keep = 'first', inplace = True)\n",
    "\n",
    "#display(add_dockets_uploader)"
   ]
  },
  {
   "cell_type": "code",
   "execution_count": 36,
   "metadata": {},
   "outputs": [],
   "source": [
    "#analysis of record and orders DFs\n",
    "\n",
    "#Orders_and_AAGs = All_New_Orders.merge(add_dockets_uploader, on='Docket', how='left') \n",
    "\n",
    "#Orders_with_AAGs = Orders_and_AAGs[Orders_and_AAGs.AAG.notnull()]\n",
    "\n",
    "#Orders_with_AAGs = Orders_with_AAGs[['Date_Filed_x', 'Filer', 'Docket', 'File Type', 'AAG']].copy()\n",
    "\n",
    "#Orders_with_AAGs.rename(columns={'Date_Filed_x':'Date_Filed'}, inplace=True)\n",
    "\n",
    "#display(Orders_with_AAGs)"
   ]
  },
  {
   "cell_type": "code",
   "execution_count": 37,
   "metadata": {},
   "outputs": [],
   "source": [
    "#ok lets recap out results\n",
    "#to see all Orders for cases with an AAG:  Orders_with_AAGs\n",
    "\n",
    "#to see all new orders:  All_New_Orders\n",
    "\n",
    "#to see all new AGO Briefs:  New_Briefs\n",
    "\n",
    "#to see all Dockets without an AAG:  Cases_Without_AAG\n",
    "\n",
    "#to see all Dockets with new AAG intervention:  Cases_With_AAG\n",
    "\n",
    "#to see all Dockets, from start of program launch, with an AAG:  add_dockets_uploader"
   ]
  },
  {
   "cell_type": "code",
   "execution_count": 38,
   "metadata": {},
   "outputs": [],
   "source": [
    "#display(All_New_Orders)"
   ]
  },
  {
   "cell_type": "code",
   "execution_count": 23,
   "metadata": {},
   "outputs": [],
   "source": [
    "#Clear out sheet before uploading\n",
    "\n",
    "empty_sheet(sheet_id,\"Record_of_All_Dockets_with_an_AAG\")"
   ]
  },
  {
   "cell_type": "code",
   "execution_count": 24,
   "metadata": {},
   "outputs": [
    {
     "name": "stdout",
     "output_type": "stream",
     "text": [
      "\n",
      "Adding...\n",
      "\n",
      "['2019-11-21', '19-128', 'Donald Boecke']\n",
      "['NaT', '19-GC-59', 'Timothy Reppucci']\n",
      "['2019-11-27', '19-123', 'Timothy Reppucci']\n",
      "\n",
      "\n"
     ]
    }
   ],
   "source": [
    "add_rows(sheet_id,\"Record_of_All_Dockets_with_an_AAG\",add_dockets_uploader)"
   ]
  },
  {
   "cell_type": "code",
   "execution_count": 25,
   "metadata": {},
   "outputs": [
    {
     "name": "stdout",
     "output_type": "stream",
     "text": [
      "\n",
      "Adding...\n",
      "\n",
      "['2019-11-27', 'NSTAR Gas Company d/b/a Eversource Energy', '19-123', 'Initial Filing', 'Petition of NSTAR Electric Company and NSTAR Gas Company each d/b/a Eversource Energy, for approval of their annual Pension/PBOP Adjustment Factors for effect January 1, 2020. Notice of Appearance of Counsel for Steven Frias. Direct Testimony of Douglas P. Horton and Timothy J. Griffin. ']\n",
      "['2019-11-26', 'Massachusetts Electric Company and Nantucket Electric Company, each d/b/a National Grid', '19-144', 'Initial Filing', '2020 Vegetation Management Factor Filing. Testimony and Exhibits of Ryan A. Moe and Mindy Rosen. Motion for Exception from Department Practice. Motion for Protective Treatment of Confidential Information.  Notice of Appearance of Counsel for Meabh Purcell. ']\n",
      "['2019-11-25', 'Fitchburg Gas and Electric Light Company d/b/a Unitil', '19-cmi-02', 'Initial Filing', 'Tables 1 and 2 containing customer migration data for Fitchburg Gas and Electric Light Company d/b/a Unitil. ']\n",
      "\n",
      "\n"
     ]
    }
   ],
   "source": [
    "#record of no AAG\n",
    "record_No_AAG = download_sheet(sheet_id,\"Record_of_All_Dockets_No_AAG\")\n",
    "record_No_AAG['Date_Filed'] = pd.to_datetime(record_No_AAG['Date_Filed'])\n",
    "\n",
    "#display(Cases_Without_AAG)\n",
    "#display(record_No_AAG)\n",
    "\n",
    "No_AAG_uploader = pd.concat([record_No_AAG, Cases_Without_AAG])\n",
    "#display(No_AAG_uploader)\n",
    "\n",
    "No_AAG_uploader.drop_duplicates(subset = 'Docket', keep = 'first', inplace = True)\n",
    "\n",
    "#display(No_AAG_uploader)\n",
    "\n",
    "empty_sheet(sheet_id,\"Record_of_All_Dockets_No_AAG\")\n",
    "add_rows(sheet_id,\"Record_of_All_Dockets_No_AAG\",No_AAG_uploader)"
   ]
  },
  {
   "cell_type": "code",
   "execution_count": 32,
   "metadata": {},
   "outputs": [
    {
     "name": "stdout",
     "output_type": "stream",
     "text": [
      "\n",
      "Adding...\n",
      "\n",
      "\n",
      "\n"
     ]
    }
   ],
   "source": [
    "#Weekly No AAGs\n",
    "weekly_No_AAG = download_sheet(sheet_id,\"New_Weekly_Dockets_Without_AAGs\")\n",
    "\n",
    "\n",
    "empty_sheet(sheet_id,\"New_Weekly_Dockets_Without_AAGs\")\n",
    "add_rows(sheet_id,\"New_Weekly_Dockets_Without_AAGs\",Cases_Without_AAG)"
   ]
  },
  {
   "cell_type": "code",
   "execution_count": 27,
   "metadata": {},
   "outputs": [
    {
     "data": {
      "text/html": [
       "<div>\n",
       "<style scoped>\n",
       "    .dataframe tbody tr th:only-of-type {\n",
       "        vertical-align: middle;\n",
       "    }\n",
       "\n",
       "    .dataframe tbody tr th {\n",
       "        vertical-align: top;\n",
       "    }\n",
       "\n",
       "    .dataframe thead th {\n",
       "        text-align: right;\n",
       "    }\n",
       "</style>\n",
       "<table border=\"1\" class=\"dataframe\">\n",
       "  <thead>\n",
       "    <tr style=\"text-align: right;\">\n",
       "      <th></th>\n",
       "      <th>Date_Filed</th>\n",
       "      <th>Filer</th>\n",
       "      <th>Docket</th>\n",
       "      <th>File Type</th>\n",
       "      <th>Description</th>\n",
       "    </tr>\n",
       "  </thead>\n",
       "  <tbody>\n",
       "  </tbody>\n",
       "</table>\n",
       "</div>"
      ],
      "text/plain": [
       "Empty DataFrame\n",
       "Columns: [Date_Filed, Filer, Docket, File Type, Description]\n",
       "Index: []"
      ]
     },
     "metadata": {},
     "output_type": "display_data"
    }
   ],
   "source": [
    "display(Cases_Without_AAG)"
   ]
  },
  {
   "cell_type": "code",
   "execution_count": 28,
   "metadata": {},
   "outputs": [],
   "source": [
    "#Weekly Briefs Weekly_New_AGO_Briefs\n",
    "weekly_AGO_Briefs = download_sheet(sheet_id,\"Weekly_New_AGO_Briefs\")\n",
    "\n",
    "empty_sheet(sheet_id,\"Weekly_New_AGO_Briefs\")\n",
    "#add_rows(sheet_id,\"Weekly_New_AGO_Briefs\",New_Briefs)\n"
   ]
  },
  {
   "cell_type": "code",
   "execution_count": 29,
   "metadata": {},
   "outputs": [],
   "source": [
    "#Weekly Orders\n",
    "weekly_Orders = download_sheet(sheet_id,\"Weekly_New_Orders\")\n",
    "\n",
    "empty_sheet(sheet_id,\"Weekly_New_Orders\")\n",
    "#add_rows(sheet_id,\"Weekly_New_Orders\",All_New_Orders)"
   ]
  },
  {
   "cell_type": "code",
   "execution_count": 30,
   "metadata": {},
   "outputs": [],
   "source": [
    "#Weekly AGO Order\n",
    "weekly_AGO_Orders = download_sheet(sheet_id,\"Weekly_New_Orders_With_AAGs\")\n",
    "\n",
    "empty_sheet(sheet_id,\"Weekly_New_Orders_With_AAGs\")\n",
    "#add_rows(sheet_id,\"Weekly_New_Orders_With_AAGs\",Orders_with_AAGs)"
   ]
  },
  {
   "cell_type": "code",
   "execution_count": 31,
   "metadata": {},
   "outputs": [
    {
     "name": "stdout",
     "output_type": "stream",
     "text": [
      "Ahhhh All Done. Time for a Beer. Glug Glug Glug\n"
     ]
    }
   ],
   "source": [
    "print('Ahhhh All Done. Time for a Beer. Glug Glug Glug')"
   ]
  },
  {
   "cell_type": "code",
   "execution_count": null,
   "metadata": {},
   "outputs": [],
   "source": []
  }
 ],
 "metadata": {
  "kernelspec": {
   "display_name": "Python 3",
   "language": "python",
   "name": "python3"
  },
  "language_info": {
   "codemirror_mode": {
    "name": "ipython",
    "version": 3
   },
   "file_extension": ".py",
   "mimetype": "text/x-python",
   "name": "python",
   "nbconvert_exporter": "python",
   "pygments_lexer": "ipython3",
   "version": "3.7.5"
  }
 },
 "nbformat": 4,
 "nbformat_minor": 2
}

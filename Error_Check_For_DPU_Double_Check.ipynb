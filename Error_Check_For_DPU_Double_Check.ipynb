{
 "cells": [
  {
   "cell_type": "code",
   "execution_count": 1,
   "metadata": {},
   "outputs": [
    {
     "name": "stdout",
     "output_type": "stream",
     "text": [
      "Hello????\n"
     ]
    }
   ],
   "source": [
    "print(\"Hello????\")"
   ]
  },
  {
   "cell_type": "code",
   "execution_count": 2,
   "metadata": {},
   "outputs": [],
   "source": [
    "import re\n",
    "import urllib.request \n",
    "from urllib.request import Request, urlopen\n",
    "from IPython.core.display import display, HTML\n",
    "\n",
    "import pandas as pd\n",
    "\n",
    "import io \n",
    "import csv\n",
    "import gspread\n",
    "from oauth2client.service_account import ServiceAccountCredentials\n",
    "\n",
    "import numpy as np\n",
    "\n",
    "import requests\n",
    "\n",
    "\n",
    "import datetime\n",
    "from datetime import date\n",
    "\n",
    "\n",
    "from datetime import timedelta\n",
    "\n",
    "\n",
    "today = date.today()\n",
    "\n",
    "today = pd.to_datetime(date.today())"
   ]
  },
  {
   "cell_type": "code",
   "execution_count": 3,
   "metadata": {},
   "outputs": [],
   "source": [
    "# email for your app: owner-596@api-key-first-test.iam.gserviceaccount.com\n",
    "# this is the email used by your app. See\n",
    "\n",
    "# location of you key\n",
    "GKey = r\"C:\\Users\\cwalk\\Documents\\HOME\\keys\\API_Key_First_Test-95147982bc22.json\"\n",
    "credentials = ServiceAccountCredentials.from_json_keyfile_name(GKey, ['https://spreadsheets.google.com/feeds'])\n",
    "\n",
    "# the id for the sheet you want to access\n",
    "sheet_id = \"1YBC5BHOIHPHI_qviJA86TR8JxT7trffKlcSYrjAHOPw\""
   ]
  },
  {
   "cell_type": "code",
   "execution_count": 4,
   "metadata": {},
   "outputs": [],
   "source": [
    "# import Sheet\n",
    "def download_sheet(document_key,form_name,skip=None):\n",
    "    csvfile = r\"C:\\Users\\cwalk\\Documents\\HOME\\raw_data\\tmp.csv\"\n",
    "    gc = gspread.authorize(credentials)\n",
    "    wks = gc.open_by_key(document_key)\n",
    "    worksheet = wks.worksheet(form_name)    \n",
    "    list_of_lists = worksheet.get_all_values()\n",
    "    # uncomment to clean up empty rows and columns\n",
    "    #worksheet.resize(len(list_of_lists),len(list_of_lists[0]))\n",
    "    with open(csvfile, \"w\") as output:\n",
    "        writer = csv.writer(output, lineterminator='\\n')\n",
    "        writer.writerows(list_of_lists)\n",
    "    return pd.read_csv(csvfile, parse_dates=[0], encoding = \"ISO-8859-1\", skiprows=skip)\n",
    "\n",
    "\n",
    "        \n",
    "# add rows from a dataframe df\n",
    "def add_rows(document_key,form_name,df):\n",
    "    gc = gspread.authorize(credentials)\n",
    "    wks = gc.open_by_key(document_key)\n",
    "    worksheet = wks.worksheet(form_name)\n",
    "    df = df.astype(str)\n",
    "    print(\"\\nAdding...\\n\")\n",
    "    for index, row in df.iterrows():\n",
    "        print(row.tolist())\n",
    "        worksheet.append_row(row.tolist())\n",
    "    print(\"\\n\")\n",
    "        \n",
    "# remove everything but the header from a worksheet\n",
    "def empty_sheet(document_key,form_name):\n",
    "    gc = gspread.authorize(credentials)\n",
    "    wks = gc.open_by_key(document_key)\n",
    "    worksheet = wks.worksheet(form_name)\n",
    "    list_of_lists = worksheet.get_all_values()\n",
    "    worksheet.resize(1,len(list_of_lists[0]))"
   ]
  },
  {
   "cell_type": "code",
   "execution_count": 30,
   "metadata": {},
   "outputs": [
    {
     "name": "stdout",
     "output_type": "stream",
     "text": [
      "\n",
      "Adding...\n",
      "\n",
      "['<bee boop>', 'uh oh', 'something is wrong', 'i dont feel good', 'ERROR: please contact creator to fix my error']\n",
      "\n",
      "\n"
     ]
    }
   ],
   "source": [
    "#Weekly No AAGs\n",
    "weekly_No_AAG = download_sheet(sheet_id,\"New_Weekly_Dockets_Without_AAGs\")\n",
    "\n",
    "\n",
    "\n",
    "empty_sheet(sheet_id,\"New_Weekly_Dockets_Without_AAGs\")\n",
    "\n",
    "\n",
    "Data = ['<bee boop>', 'uh oh', 'something is wrong', 'i dont feel good', 'ERROR: please contact creator to fix my error']\n",
    "Cases_Without_AAG = pd.DataFrame([Data], columns = ['Date_Filed', 'Filer', 'Docket', 'File Type', 'Description'])\n",
    "\n",
    "\n",
    "\n",
    "\n",
    "add_rows(sheet_id,\"New_Weekly_Dockets_Without_AAGs\",Cases_Without_AAG)"
   ]
  },
  {
   "cell_type": "code",
   "execution_count": 31,
   "metadata": {},
   "outputs": [
    {
     "name": "stdout",
     "output_type": "stream",
     "text": [
      "\n",
      "Adding...\n",
      "\n",
      "['<bee boop>', 'uh oh', 'something is wrong', 'i dont feel good', 'ERROR: please contact creator to fix my error']\n",
      "\n",
      "\n"
     ]
    }
   ],
   "source": [
    "#Weekly Briefs Weekly_New_AGO_Briefs\n",
    "weekly_AGO_Briefs = download_sheet(sheet_id,\"Weekly_New_AGO_Briefs\")\n",
    "\n",
    "\n",
    "empty_sheet(sheet_id,\"Weekly_New_AGO_Briefs\")\n",
    "\n",
    "New_Briefs = pd.DataFrame([Data], columns = ['Date_Filed', 'Filer', 'Docket', 'File Type', 'Description'])\n",
    "\n",
    "add_rows(sheet_id,\"Weekly_New_AGO_Briefs\",New_Briefs)\n"
   ]
  },
  {
   "cell_type": "code",
   "execution_count": 24,
   "metadata": {},
   "outputs": [
    {
     "name": "stdout",
     "output_type": "stream",
     "text": [
      "\n",
      "Adding...\n",
      "\n",
      "['<bee boop>', 'uh oh', 'something is wrong', 'i dont feel good', 'ERROR: please contact creator to fix my error']\n",
      "\n",
      "\n"
     ]
    }
   ],
   "source": [
    "#Weekly Orders\n",
    "weekly_Orders = download_sheet(sheet_id,\"Weekly_New_Orders\")\n",
    "\n",
    "\n",
    "empty_sheet(sheet_id,\"Weekly_New_Orders\")\n",
    "\n",
    "All_New_Orders = pd.DataFrame([Data], columns = ['Date_Filed', 'Filer', 'Docket', 'File Type', 'Description'])\n",
    "\n",
    "add_rows(sheet_id,\"Weekly_New_Orders\",All_New_Orders)"
   ]
  },
  {
   "cell_type": "code",
   "execution_count": 32,
   "metadata": {},
   "outputs": [
    {
     "name": "stdout",
     "output_type": "stream",
     "text": [
      "\n",
      "Adding...\n",
      "\n",
      "['<bee boop>', 'uh oh', 'something is wrong', 'i dont feel good', 'ERROR: please contact creator to fix my error']\n",
      "\n",
      "\n"
     ]
    }
   ],
   "source": [
    "#Weekly AGO Order\n",
    "weekly_AGO_Orders = download_sheet(sheet_id,\"Weekly_New_Orders_With_AAGs\")\n",
    "\n",
    "empty_sheet(sheet_id,\"Weekly_New_Orders_With_AAGs\")\n",
    "\n",
    "Orders_with_AAGs = pd.DataFrame([Data], columns = ['Date_Filed', 'Filer', 'Docket', 'File Type', 'Description'])\n",
    "\n",
    "add_rows(sheet_id,\"Weekly_New_Orders_With_AAGs\",Orders_with_AAGs)"
   ]
  },
  {
   "cell_type": "code",
   "execution_count": 26,
   "metadata": {},
   "outputs": [
    {
     "name": "stdout",
     "output_type": "stream",
     "text": [
      "Ahhhh All Done. Time for a Beer. <Glug> <Glug> <Glug>\n"
     ]
    }
   ],
   "source": [
    "print('Ahhhh All Done. Time for a Beer. <Glug> <Glug> <Glug>')"
   ]
  },
  {
   "cell_type": "code",
   "execution_count": null,
   "metadata": {},
   "outputs": [],
   "source": []
  }
 ],
 "metadata": {
  "kernelspec": {
   "display_name": "Python 3",
   "language": "python",
   "name": "python3"
  },
  "language_info": {
   "codemirror_mode": {
    "name": "ipython",
    "version": 3
   },
   "file_extension": ".py",
   "mimetype": "text/x-python",
   "name": "python",
   "nbconvert_exporter": "python",
   "pygments_lexer": "ipython3",
   "version": "3.7.5"
  }
 },
 "nbformat": 4,
 "nbformat_minor": 2
}
